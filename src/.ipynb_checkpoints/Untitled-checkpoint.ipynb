{
 "cells": [
  {
   "cell_type": "code",
   "execution_count": 85,
   "metadata": {},
   "outputs": [],
   "source": [
    "from lxml import etree\n",
    "from lxml import html\n",
    "import io\n",
    "import sys\n",
    "import glob\n",
    "from collections import OrderedDict\n",
    "import json\n",
    "import pprint"
   ]
  },
  {
   "cell_type": "code",
   "execution_count": 32,
   "metadata": {},
   "outputs": [],
   "source": [
    "input_files = '/Users/nikmag/Desktop/558/hw2/Nikhit_Mago_hw2/data'"
   ]
  },
  {
   "cell_type": "code",
   "execution_count": 33,
   "metadata": {},
   "outputs": [],
   "source": [
    "if input_files[-1] == '/':\n",
    "    input_files += '*html'\n",
    "else:\n",
    "    input_files += '/*html'"
   ]
  },
  {
   "cell_type": "code",
   "execution_count": 100,
   "metadata": {},
   "outputs": [],
   "source": [
    "for input_file in glob.glob(input_files)[:1]:\n",
    "    html_f = io.open(input_file)\n",
    "    htree = html.parse(html_f)\n",
    "    subject = htree.xpath('''//div[@class = 'page-header']/h1/span/text()''')[0].strip().replace('/', '_')\n",
    "    courses_info = []\n",
    "    for element in htree.xpath('''//div[@class = 'tab-content']/div'''):\n",
    "        courses = element.xpath('ul/li')\n",
    "        for course in courses:\n",
    "            course_info = OrderedDict()\n",
    "            title = course.xpath('div/h3/text()')\n",
    "            units = course.xpath('div/p[1]/text()')\n",
    "            desc = course.xpath('div/p[2]/text()')\n",
    "            course_info['course number & title'] = title[0] if title else \"\"\n",
    "            course_info['Number of units'] = units[0] if units else \"\"\n",
    "            course_info['Course description'] = desc[0] if desc else \"\"\n",
    "            courses_info.append(course_info)\n",
    "    output = OrderedDict()\n",
    "    output['subject'] = subject\n",
    "    output['courses'] = courses_info\n",
    "    with io.open(subject + '.json', 'w') as f:\n",
    "        f.write(unicode(json.dumps(output, indent=2)))\n",
    "    f.close()\n",
    "    html_f.close()"
   ]
  },
  {
   "cell_type": "code",
   "execution_count": null,
   "metadata": {},
   "outputs": [],
   "source": []
  }
 ],
 "metadata": {
  "kernelspec": {
   "display_name": "Python 2",
   "language": "python",
   "name": "python2"
  },
  "language_info": {
   "codemirror_mode": {
    "name": "ipython",
    "version": 2
   },
   "file_extension": ".py",
   "mimetype": "text/x-python",
   "name": "python",
   "nbconvert_exporter": "python",
   "pygments_lexer": "ipython2",
   "version": "2.7.14"
  }
 },
 "nbformat": 4,
 "nbformat_minor": 2
}
